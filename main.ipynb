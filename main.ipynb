{
 "cells": [
  {
   "cell_type": "markdown",
   "metadata": {},
   "source": [
    "THE MODEL"
   ]
  },
  {
   "cell_type": "code",
   "execution_count": 13,
   "metadata": {},
   "outputs": [],
   "source": [
    "from tensorflow.keras.models import Sequential\n",
    "from tensorflow.keras.layers import Conv2D, MaxPooling2D, Dense, Dropout, Flatten\n",
    "from tensorflow.keras import layers, models\n",
    "from tensorflow.keras.preprocessing.image import ImageDataGenerator\n"
   ]
  },
  {
   "cell_type": "code",
   "execution_count": 14,
   "metadata": {},
   "outputs": [
    {
     "name": "stdout",
     "output_type": "stream",
     "text": [
      "Number of classes: 8\n"
     ]
    }
   ],
   "source": [
    "import os\n",
    "\n",
    "data_dir = 'data'\n",
    "num_classes = len(os.listdir(data_dir))\n",
    "print(f'Number of classes: {num_classes}')\n",
    "\n"
   ]
  },
  {
   "cell_type": "code",
   "execution_count": null,
   "metadata": {},
   "outputs": [],
   "source": []
  },
  {
   "cell_type": "code",
   "execution_count": null,
   "metadata": {},
   "outputs": [],
   "source": []
  },
  {
   "cell_type": "code",
   "execution_count": 15,
   "metadata": {},
   "outputs": [
    {
     "name": "stdout",
     "output_type": "stream",
     "text": [
      "Found 3200 images belonging to 8 classes.\n",
      "Found 798 images belonging to 8 classes.\n",
      "Epoch 1/20\n",
      "\u001b[1m100/100\u001b[0m \u001b[32m━━━━━━━━━━━━━━━━━━━━\u001b[0m\u001b[37m\u001b[0m \u001b[1m1303s\u001b[0m 13s/step - accuracy: 0.5849 - loss: 5.2458 - val_accuracy: 0.1253 - val_loss: 57.4497\n",
      "Epoch 2/20\n",
      "\u001b[1m100/100\u001b[0m \u001b[32m━━━━━━━━━━━━━━━━━━━━\u001b[0m\u001b[37m\u001b[0m \u001b[1m1271s\u001b[0m 13s/step - accuracy: 0.8401 - loss: 1.5507 - val_accuracy: 0.1353 - val_loss: 58.4806\n",
      "Epoch 3/20\n",
      "\u001b[1m100/100\u001b[0m \u001b[32m━━━━━━━━━━━━━━━━━━━━\u001b[0m\u001b[37m\u001b[0m \u001b[1m1283s\u001b[0m 13s/step - accuracy: 0.8899 - loss: 1.1109 - val_accuracy: 0.3409 - val_loss: 27.8476\n",
      "Epoch 4/20\n",
      "\u001b[1m100/100\u001b[0m \u001b[32m━━━━━━━━━━━━━━━━━━━━\u001b[0m\u001b[37m\u001b[0m \u001b[1m1306s\u001b[0m 13s/step - accuracy: 0.8952 - loss: 0.9351 - val_accuracy: 0.3120 - val_loss: 24.9458\n",
      "Epoch 5/20\n",
      "\u001b[1m100/100\u001b[0m \u001b[32m━━━━━━━━━━━━━━━━━━━━\u001b[0m\u001b[37m\u001b[0m \u001b[1m1377s\u001b[0m 14s/step - accuracy: 0.9065 - loss: 0.8348 - val_accuracy: 0.5551 - val_loss: 13.5966\n",
      "Epoch 6/20\n",
      "\u001b[1m100/100\u001b[0m \u001b[32m━━━━━━━━━━━━━━━━━━━━\u001b[0m\u001b[37m\u001b[0m \u001b[1m1262s\u001b[0m 13s/step - accuracy: 0.9302 - loss: 0.5705 - val_accuracy: 0.4386 - val_loss: 24.4938\n",
      "Epoch 7/20\n",
      "\u001b[1m100/100\u001b[0m \u001b[32m━━━━━━━━━━━━━━━━━━━━\u001b[0m\u001b[37m\u001b[0m \u001b[1m1288s\u001b[0m 13s/step - accuracy: 0.9289 - loss: 0.5392 - val_accuracy: 0.7343 - val_loss: 5.3469\n",
      "Epoch 8/20\n",
      "\u001b[1m100/100\u001b[0m \u001b[32m━━━━━━━━━━━━━━━━━━━━\u001b[0m\u001b[37m\u001b[0m \u001b[1m1313s\u001b[0m 13s/step - accuracy: 0.9320 - loss: 0.5186 - val_accuracy: 0.4649 - val_loss: 12.5568\n",
      "Epoch 9/20\n",
      "\u001b[1m100/100\u001b[0m \u001b[32m━━━━━━━━━━━━━━━━━━━━\u001b[0m\u001b[37m\u001b[0m \u001b[1m1293s\u001b[0m 13s/step - accuracy: 0.9486 - loss: 0.3839 - val_accuracy: 0.6842 - val_loss: 6.1123\n",
      "Epoch 10/20\n",
      "\u001b[1m100/100\u001b[0m \u001b[32m━━━━━━━━━━━━━━━━━━━━\u001b[0m\u001b[37m\u001b[0m \u001b[1m1187s\u001b[0m 12s/step - accuracy: 0.9433 - loss: 0.4498 - val_accuracy: 0.6980 - val_loss: 6.8834\n",
      "Epoch 11/20\n",
      "\u001b[1m100/100\u001b[0m \u001b[32m━━━━━━━━━━━━━━━━━━━━\u001b[0m\u001b[37m\u001b[0m \u001b[1m1062s\u001b[0m 11s/step - accuracy: 0.9637 - loss: 0.2623 - val_accuracy: 0.5226 - val_loss: 14.7822\n",
      "Epoch 12/20\n",
      "\u001b[1m100/100\u001b[0m \u001b[32m━━━━━━━━━━━━━━━━━━━━\u001b[0m\u001b[37m\u001b[0m \u001b[1m1066s\u001b[0m 11s/step - accuracy: 0.9655 - loss: 0.2213 - val_accuracy: 0.6153 - val_loss: 9.8370\n",
      "Epoch 13/20\n",
      "\u001b[1m100/100\u001b[0m \u001b[32m━━━━━━━━━━━━━━━━━━━━\u001b[0m\u001b[37m\u001b[0m \u001b[1m1081s\u001b[0m 11s/step - accuracy: 0.9620 - loss: 0.5081 - val_accuracy: 0.5188 - val_loss: 15.4437\n",
      "Epoch 14/20\n",
      "\u001b[1m100/100\u001b[0m \u001b[32m━━━━━━━━━━━━━━━━━━━━\u001b[0m\u001b[37m\u001b[0m \u001b[1m1157s\u001b[0m 12s/step - accuracy: 0.9561 - loss: 0.3473 - val_accuracy: 0.4511 - val_loss: 31.7976\n",
      "Epoch 15/20\n",
      "\u001b[1m100/100\u001b[0m \u001b[32m━━━━━━━━━━━━━━━━━━━━\u001b[0m\u001b[37m\u001b[0m \u001b[1m1257s\u001b[0m 13s/step - accuracy: 0.9555 - loss: 0.3213 - val_accuracy: 0.3521 - val_loss: 54.4785\n",
      "Epoch 16/20\n",
      "\u001b[1m100/100\u001b[0m \u001b[32m━━━━━━━━━━━━━━━━━━━━\u001b[0m\u001b[37m\u001b[0m \u001b[1m1256s\u001b[0m 13s/step - accuracy: 0.9584 - loss: 0.3457 - val_accuracy: 0.8158 - val_loss: 2.9035\n",
      "Epoch 17/20\n",
      "\u001b[1m100/100\u001b[0m \u001b[32m━━━━━━━━━━━━━━━━━━━━\u001b[0m\u001b[37m\u001b[0m \u001b[1m1169s\u001b[0m 12s/step - accuracy: 0.9592 - loss: 0.4009 - val_accuracy: 0.4937 - val_loss: 25.5196\n",
      "Epoch 18/20\n",
      "\u001b[1m100/100\u001b[0m \u001b[32m━━━━━━━━━━━━━━━━━━━━\u001b[0m\u001b[37m\u001b[0m \u001b[1m1167s\u001b[0m 12s/step - accuracy: 0.9684 - loss: 0.2766 - val_accuracy: 0.7594 - val_loss: 5.7463\n",
      "Epoch 19/20\n",
      "\u001b[1m100/100\u001b[0m \u001b[32m━━━━━━━━━━━━━━━━━━━━\u001b[0m\u001b[37m\u001b[0m \u001b[1m1201s\u001b[0m 12s/step - accuracy: 0.9605 - loss: 0.3406 - val_accuracy: 0.8120 - val_loss: 7.3530\n",
      "Epoch 20/20\n",
      "\u001b[1m100/100\u001b[0m \u001b[32m━━━━━━━━━━━━━━━━━━━━\u001b[0m\u001b[37m\u001b[0m \u001b[1m1744s\u001b[0m 18s/step - accuracy: 0.9685 - loss: 0.2215 - val_accuracy: 0.8546 - val_loss: 2.7496\n"
     ]
    },
    {
     "name": "stderr",
     "output_type": "stream",
     "text": [
      "WARNING:absl:You are saving your model as an HDF5 file via `model.save()` or `keras.saving.save_model(model)`. This file format is considered legacy. We recommend using instead the native Keras format, e.g. `model.save('my_model.keras')` or `keras.saving.save_model(model, 'my_model.keras')`. \n"
     ]
    }
   ],
   "source": [
    "import tensorflow as tf\n",
    "from tensorflow.keras import layers, models\n",
    "from tensorflow.keras.preprocessing.image import ImageDataGenerator\n",
    "\n",
    "# Define the model\n",
    "model = models.Sequential()\n",
    "model.add(layers.Conv2D(32, (3, 3), activation='relu', input_shape=(256, 256, 3)))\n",
    "model.add(layers.BatchNormalization())\n",
    "model.add(layers.MaxPooling2D((2, 2)))\n",
    "\n",
    "model.add(layers.Conv2D(64, (3, 3), activation='relu'))\n",
    "model.add(layers.BatchNormalization())\n",
    "model.add(layers.MaxPooling2D((2, 2)))\n",
    "\n",
    "model.add(layers.Conv2D(128, (3, 3), activation='relu'))\n",
    "model.add(layers.BatchNormalization())\n",
    "model.add(layers.MaxPooling2D((2, 2)))\n",
    "\n",
    "model.add(layers.Conv2D(128, (3, 3), activation='relu'))\n",
    "model.add(layers.BatchNormalization())\n",
    "model.add(layers.MaxPooling2D((2, 2)))\n",
    "\n",
    "model.add(layers.Flatten())\n",
    "model.add(layers.Dense(512, activation='relu'))\n",
    "model.add(layers.Dropout(0.5))\n",
    "model.add(layers.Dense(num_classes, activation='softmax'))  # Adjusted number of output units\n",
    "\n",
    "# Compile the model\n",
    "model.compile(optimizer='adam',\n",
    "              loss='sparse_categorical_crossentropy',\n",
    "              metrics=['accuracy'])\n",
    "\n",
    "# Data preparation\n",
    "train_datagen = ImageDataGenerator(rescale=1./255, validation_split=0.2)\n",
    "train_generator = train_datagen.flow_from_directory(\n",
    "    data_dir,\n",
    "    target_size=(256, 256),\n",
    "    batch_size=32,\n",
    "    class_mode='sparse',\n",
    "    subset='training'\n",
    ")\n",
    "validation_generator = train_datagen.flow_from_directory(\n",
    "    data_dir,\n",
    "    target_size=(256, 256),\n",
    "    batch_size=32,\n",
    "    class_mode='sparse',\n",
    "    subset='validation'\n",
    ")\n",
    "\n",
    "# Train the model\n",
    "history = model.fit(\n",
    "    train_generator,\n",
    "    epochs=20,\n",
    "    validation_data=validation_generator\n",
    ")\n",
    "\n",
    "# Save the model\n",
    "model.save('enhanced_cnn_mango_leaf_disease.h5')\n"
   ]
  },
  {
   "cell_type": "code",
   "execution_count": 16,
   "metadata": {},
   "outputs": [],
   "source": [
    "from tensorflow.keras.preprocessing import image\n",
    "import numpy as np\n",
    "\n",
    "def preprocess_image(img_path):\n",
    "    img = image.load_img(img_path, target_size=(256, 256))\n",
    "    img_array = image.img_to_array(img)\n",
    "    img_array = np.expand_dims(img_array, axis=0)  # Add batch dimension\n",
    "    img_array /= 255.0  # Normalize to [0, 1]\n",
    "    return img_array\n"
   ]
  },
  {
   "cell_type": "code",
   "execution_count": 17,
   "metadata": {},
   "outputs": [
    {
     "name": "stdout",
     "output_type": "stream",
     "text": [
      "\u001b[1m1/1\u001b[0m \u001b[32m━━━━━━━━━━━━━━━━━━━━\u001b[0m\u001b[37m\u001b[0m \u001b[1m1s\u001b[0m 820ms/step\n",
      "Predicted class: 5\n"
     ]
    }
   ],
   "source": [
    "# Path to your test image\n",
    "test_image_path = 'ml.jpg'\n",
    "\n",
    "# Preprocess the image\n",
    "preprocessed_image = preprocess_image(test_image_path)\n",
    "\n",
    "# Predict the class\n",
    "predictions = model.predict(preprocessed_image)\n",
    "predicted_class = np.argmax(predictions, axis=1)[0]\n",
    "print(f'Predicted class: {predicted_class}')\n"
   ]
  },
  {
   "cell_type": "code",
   "execution_count": 18,
   "metadata": {},
   "outputs": [
    {
     "name": "stdout",
     "output_type": "stream",
     "text": [
      "The test image is predicted to be: Healthy\n",
      "Best drug to use: None\n",
      "Best procedures on use: Maintain regular monitoring and good agricultural practices.\n",
      "Duration: Ongoing.\n"
     ]
    }
   ],
   "source": [
    "# List of disease names corresponding to class indices\n",
    "disease_names = [\n",
    "    'Anthracnose', \n",
    "    'Bacterial Canker',\n",
    "    'Cutting Weevil',\n",
    "    'Die Back',\n",
    "    'Gall Midge',\n",
    "    'Healthy',\n",
    "    'Powdery Mildew', \n",
    "    'Sooty Mold'\n",
    "]\n",
    "\n",
    "# Function to get treatment information based on the disease name\n",
    "def get_treatment_info(disease_name):\n",
    "    if disease_name == 'Anthracnose':\n",
    "        return {\n",
    "            \"drug\": \"Chlorothalonil or Copper-based fungicides\",\n",
    "            \"procedures\": \"Apply fungicides at 10-15 day intervals, especially during wet seasons. Ensure thorough coverage of the leaves and fruit.\",\n",
    "            \"duration\": \"Continue treatment from flowering until the fruit is harvested.\"\n",
    "        }\n",
    "    elif disease_name == 'Bacterial Canker':\n",
    "        return {\n",
    "            \"drug\": \"Copper-based sprays\",\n",
    "            \"procedures\": \"Apply copper sprays during early stages of the disease. Prune infected branches and ensure good air circulation.\",\n",
    "            \"duration\": \"Apply every 7-14 days depending on the severity of the infection.\"\n",
    "        }\n",
    "    elif disease_name == 'Cutting Weevil':\n",
    "        return {\n",
    "            \"drug\": \"Chlorpyrifos or Carbaryl\",\n",
    "            \"procedures\": \"Apply insecticides at the base of the tree and affected areas. Monitor for weevil activity and apply as necessary.\",\n",
    "            \"duration\": \"Apply during the weevil's active period, typically in the early growing season.\"\n",
    "        }\n",
    "    elif disease_name == 'Die Back':\n",
    "        return {\n",
    "            \"drug\": \"Carbendazim or Copper Oxychloride\",\n",
    "            \"procedures\": \"Apply fungicides to the affected areas. Prune and destroy affected branches.\",\n",
    "            \"duration\": \"Treat immediately upon detection and continue as necessary.\"\n",
    "        }\n",
    "    elif disease_name == 'Gall Midge':\n",
    "        return {\n",
    "            \"drug\": \"Imidacloprid or Abamectin\",\n",
    "            \"procedures\": \"Spray insecticides during the early stages of infestation. Ensure proper coverage of the affected areas.\",\n",
    "            \"duration\": \"Apply every 10-14 days during active infestation.\"\n",
    "        }\n",
    "    elif disease_name == 'Healthy':\n",
    "        return {\n",
    "            \"drug\": \"None\",\n",
    "            \"procedures\": \"Maintain regular monitoring and good agricultural practices.\",\n",
    "            \"duration\": \"Ongoing.\"\n",
    "        }\n",
    "    elif disease_name == 'Powdery Mildew':\n",
    "        return {\n",
    "            \"drug\": \"Sulfur-based fungicides or Potassium bicarbonate\",\n",
    "            \"procedures\": \"Apply fungicides at the first sign of disease. Ensure thorough coverage of leaves.\",\n",
    "            \"duration\": \"Apply every 7-10 days during the growing season.\"\n",
    "        }\n",
    "    elif disease_name == 'Sooty Mold':\n",
    "        return {\n",
    "            \"drug\": \"Horticultural oil or Neem oil\",\n",
    "            \"procedures\": \"Apply oil sprays to affected areas. Ensure good coverage and repeat applications as necessary.\",\n",
    "            \"duration\": \"Apply every 7-14 days until the mold is controlled.\"\n",
    "        }\n",
    "    else:\n",
    "        return {\n",
    "            \"drug\": \"Unknown\",\n",
    "            \"procedures\": \"No procedures available.\",\n",
    "            \"duration\": \"Unknown.\"\n",
    "        }\n",
    "\n",
    "\n",
    "\n",
    "# Get the disease name for the predicted class\n",
    "predicted_disease = disease_names[predicted_class]\n",
    "print(f'The test image is predicted to be: {predicted_disease}')\n",
    "\n",
    "# Get the treatment information for the predicted disease\n",
    "treatment_info = get_treatment_info(predicted_disease)\n",
    "print(f\"Best drug to use: {treatment_info['drug']}\")\n",
    "print(f\"Best procedures on use: {treatment_info['procedures']}\")\n",
    "print(f\"Duration: {treatment_info['duration']}\")\n"
   ]
  },
  {
   "cell_type": "code",
   "execution_count": 19,
   "metadata": {},
   "outputs": [
    {
     "name": "stderr",
     "output_type": "stream",
     "text": [
      "WARNING:absl:You are saving your model as an HDF5 file via `model.save()` or `keras.saving.save_model(model)`. This file format is considered legacy. We recommend using instead the native Keras format, e.g. `model.save('my_model.keras')` or `keras.saving.save_model(model, 'my_model.keras')`. \n"
     ]
    }
   ],
   "source": [
    "model.save('enhanced_cnn_mango_leaf_disease.h5')"
   ]
  },
  {
   "cell_type": "code",
   "execution_count": null,
   "metadata": {},
   "outputs": [],
   "source": []
  }
 ],
 "metadata": {
  "kernelspec": {
   "display_name": "Python 3",
   "language": "python",
   "name": "python3"
  },
  "language_info": {
   "codemirror_mode": {
    "name": "ipython",
    "version": 3
   },
   "file_extension": ".py",
   "mimetype": "text/x-python",
   "name": "python",
   "nbconvert_exporter": "python",
   "pygments_lexer": "ipython3",
   "version": "3.12.2"
  }
 },
 "nbformat": 4,
 "nbformat_minor": 2
}
